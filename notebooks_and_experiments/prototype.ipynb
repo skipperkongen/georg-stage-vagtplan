{
 "cells": [
  {
   "cell_type": "code",
   "execution_count": 34,
   "metadata": {},
   "outputs": [],
   "source": [
    "import string\n",
    "\n",
    "\n",
    "class Dagplan:    \n",
    "    def __init__(self, **kwargs):\n",
    "        self.__dict__.update(kwargs)\n",
    "\n",
    "        \n",
    "class Planlægger:\n",
    "    \n",
    "    def __init__(self, n_skifter=3, n_vagter=6, n_hu=7, n_gast=60, n_kok=3, pejlvagt=3):\n",
    "        \"\"\"\n",
    "        Initialiser en planlægger.\n",
    "        \n",
    "        Parametre:\n",
    "        - n_skifter angiver antal skifter (3 som default)\n",
    "        - n_hu angiver antal håndværkshold per skifte (7 som default)\n",
    "        - n_gast angiver antal gaster (eks. kokkeelever)\n",
    "        - n_kok angiver antal kokkeelever\n",
    "\n",
    "        \"\"\"\n",
    "        self.n_skifter = n_skifter\n",
    "        self.n_vagter = n_vagter\n",
    "        self.n_hu = n_hu\n",
    "        self.n_gast = n_gast\n",
    "        self.n_kok = n_kok\n",
    "        self.pejlvagt = pejlvagt\n",
    "        assert n_vagter % n_skifter == 0\n",
    "\n",
    "    def stok(hist, ude=[], forskyd=0):\n",
    "        \"\"\"\n",
    "        Genererer med \"stokastisk\" metode en ny dagplan udfra en historik af forudgående dagplaner.\n",
    "\n",
    "        Parametre:\n",
    "        - hist er en historik af tidligere dagplaner, som der skal tages højde for\n",
    "        - ude er en liste (gastnumre) over gaster i karantæne\n",
    "        - forskyd (f.eks. 0, 1, 2, ...) angiver forskydning af skifter, hvor forskyd=0 betyder at skifte 1 har A vagterne.\n",
    "        \"\"\"\n",
    "        pool_1 = set(range(n_gaster))  # gaster som kan tage morgenvagter\n",
    "        pool_2 = set(range(n_gaster))  # gaster som kan tage aftenvagter\n",
    "                \n",
    "        dagplan = None\n",
    "        return dagplan\n",
    "    \n",
    "    def rul(hist, ude=[], forskyd=0):\n",
    "        \"\"\"\n",
    "        Genererer med \"rullende\" metode en ny dagplan udfra en historik af forudgående dagplaner.\n",
    "\n",
    "        Parametre:\n",
    "        - hist er en historik af tidligere dagplaner, som der skal tages højde for\n",
    "        - ude er en liste (gastnumre) over gaster i karantæne\n",
    "        - forskyd (f.eks. 0, 1, 2, ...)  angiver forskydning af skifter, hvor forskyd=0 betyder at skifte 1 har A vagterne.\n",
    "        \"\"\"\n",
    "        dagplan = None\n",
    "        return dagplan\n",
    "        \n",
    "    \n",
    "    def check_plan(self, dagplan, hist=[]):\n",
    "        return True\n",
    "\n"
   ]
  },
  {
   "cell_type": "code",
   "execution_count": 61,
   "metadata": {},
   "outputs": [
    {
     "data": {
      "text/html": [
       "<div>\n",
       "<style scoped>\n",
       "    .dataframe tbody tr th:only-of-type {\n",
       "        vertical-align: middle;\n",
       "    }\n",
       "\n",
       "    .dataframe tbody tr th {\n",
       "        vertical-align: top;\n",
       "    }\n",
       "\n",
       "    .dataframe thead th {\n",
       "        text-align: right;\n",
       "    }\n",
       "</style>\n",
       "<table border=\"1\" class=\"dataframe\">\n",
       "  <thead>\n",
       "    <tr style=\"text-align: right;\">\n",
       "      <th></th>\n",
       "      <th>foo</th>\n",
       "      <th>bar</th>\n",
       "    </tr>\n",
       "  </thead>\n",
       "  <tbody>\n",
       "    <tr>\n",
       "      <th>0</th>\n",
       "      <td>1</td>\n",
       "      <td>2</td>\n",
       "    </tr>\n",
       "    <tr>\n",
       "      <th>1</th>\n",
       "      <td>2</td>\n",
       "      <td>1</td>\n",
       "    </tr>\n",
       "  </tbody>\n",
       "</table>\n",
       "</div>"
      ],
      "text/plain": [
       "   foo  bar\n",
       "0    1    2\n",
       "1    2    1"
      ]
     },
     "execution_count": 61,
     "metadata": {},
     "output_type": "execute_result"
    }
   ],
   "source": [
    "import pandas as pd\n",
    "hist = [\n",
    "    Dagplan(foo=1, bar=2),\n",
    "    Dagplan(foo=2, bar=1)\n",
    "]\n",
    "\n",
    "df=pd.DataFrame([d.__dict__ for d in hist])\n",
    "df"
   ]
  },
  {
   "cell_type": "code",
   "execution_count": 36,
   "metadata": {},
   "outputs": [],
   "source": [
    "p = Planlægger()\n",
    "p.stok()"
   ]
  },
  {
   "cell_type": "code",
   "execution_count": 73,
   "metadata": {},
   "outputs": [
    {
     "name": "stdout",
     "output_type": "stream",
     "text": [
      "0 {1, 2, 3, 5, 6, 7, 8, 9, 10, 11, 12, 13, 14, 15, 16, 17, 18, 19, 20}\n",
      "1 {21, 22, 23, 24, 25, 26, 27, 28, 29, 30, 31, 32, 33, 34, 35, 36, 37, 38, 39, 40}\n",
      "2 {41, 42, 43, 45, 46, 47, 48, 49, 50, 51, 52, 53, 54, 55, 56, 57, 58, 59, 60}\n",
      "3 {1, 2, 3, 5, 6, 7, 8, 9, 10, 11, 12, 13, 14, 15, 16, 17, 18, 19, 20}\n",
      "4 {21, 22, 23, 24, 25, 26, 27, 28, 29, 30, 31, 32, 33, 34, 35, 36, 37, 38, 39, 40}\n",
      "5 {41, 42, 43, 45, 46, 47, 48, 49, 50, 51, 52, 53, 54, 55, 56, 57, 58, 59, 60}\n"
     ]
    }
   ],
   "source": [
    "forskyd = 0\n",
    "n_skifter = 3\n",
    "n_vagter = 6\n",
    "n_gast = 60\n",
    "pools = {}\n",
    "for v in range(n_vagter):\n",
    "    pool = []\n",
    "    skifte = (v - forskyd) % n_skifter\n",
    "    størrelse = n_gast // n_skifter\n",
    "    gast_nr = [1+nr+skifte*størrelse for nr in range(størrelse)] \n",
    "    pools[v] = set(gast_nr)\n",
    "\n",
    "# Fjern syge (ude)\n",
    "ude = [4,44]\n",
    "for v,p in pools.items():\n",
    "    for u in ude:\n",
    "        if u in p:\n",
    "            p.remove(u)\n",
    "\n",
    "# Tag højde for hardcoded            \n",
    "\n",
    "# Fjern for tætte\n",
    "pass            \n",
    "\n",
    "# Find kandidater som har prøvet færrest gange (inkl. alle ties)\n",
    "pass\n",
    "\n",
    "# Random sample\n",
    "pass\n",
    "\n",
    "\n",
    "# Udskriv\n",
    "for v, p in pools.items():\n",
    "    print(v, p)"
   ]
  },
  {
   "cell_type": "code",
   "execution_count": null,
   "metadata": {},
   "outputs": [],
   "source": []
  }
 ],
 "metadata": {
  "kernelspec": {
   "display_name": "Python 3",
   "language": "python",
   "name": "python3"
  },
  "language_info": {
   "codemirror_mode": {
    "name": "ipython",
    "version": 3
   },
   "file_extension": ".py",
   "mimetype": "text/x-python",
   "name": "python",
   "nbconvert_exporter": "python",
   "pygments_lexer": "ipython3",
   "version": "3.7.3"
  }
 },
 "nbformat": 4,
 "nbformat_minor": 4
}

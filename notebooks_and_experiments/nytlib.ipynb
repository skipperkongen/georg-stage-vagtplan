{
 "cells": [
  {
   "cell_type": "code",
   "execution_count": 19,
   "id": "remarkable-banner",
   "metadata": {},
   "outputs": [],
   "source": [
    "from georgstage.plan import Plan, Assignment, Task\n",
    "from georgstage.plan.opt import get_taskstats\n",
    "import pandas as pd\n",
    "import numpy as np"
   ]
  },
  {
   "cell_type": "code",
   "execution_count": 26,
   "id": "genetic-herald",
   "metadata": {},
   "outputs": [],
   "source": [
    "assignments = [\n",
    "        Assignment(date='2021-02-13', at_sea=True, gast_no=1, team_no=1, shift_no=1, task=Task.BJÆRGEMÆRS),\n",
    "        Assignment(date='2021-02-13', at_sea=True, gast_no=1, team_no=1, shift_no=1, task=Task.BJÆRGEMÆRS),        \n",
    "        Assignment(date='2021-02-13', at_sea=True, gast_no=2, team_no=1, shift_no=1, task=Task.ORDONNANS),\n",
    "        Assignment(date='2021-02-13', at_sea=True, gast_no=3, team_no=1, shift_no=1, task=Task.RORGÆNGER),\n",
    "        Assignment(date='2021-02-13', at_sea=True, gast_no=4, team_no=1, shift_no=1, task=Task.UDKIG),    \n",
    "    ]\n",
    "\n",
    "plan = Plan(assignments = assignments)"
   ]
  },
  {
   "cell_type": "code",
   "execution_count": 27,
   "id": "impressed-leone",
   "metadata": {},
   "outputs": [
    {
     "data": {
      "text/html": [
       "<div>\n",
       "<style scoped>\n",
       "    .dataframe tbody tr th:only-of-type {\n",
       "        vertical-align: middle;\n",
       "    }\n",
       "\n",
       "    .dataframe tbody tr th {\n",
       "        vertical-align: top;\n",
       "    }\n",
       "\n",
       "    .dataframe thead th {\n",
       "        text-align: right;\n",
       "    }\n",
       "</style>\n",
       "<table border=\"1\" class=\"dataframe\">\n",
       "  <thead>\n",
       "    <tr style=\"text-align: right;\">\n",
       "      <th></th>\n",
       "      <th>date</th>\n",
       "      <th>at_sea</th>\n",
       "      <th>gast_no</th>\n",
       "      <th>team_no</th>\n",
       "      <th>shift_no</th>\n",
       "      <th>task</th>\n",
       "    </tr>\n",
       "  </thead>\n",
       "  <tbody>\n",
       "    <tr>\n",
       "      <th>0</th>\n",
       "      <td>2021-02-13</td>\n",
       "      <td>True</td>\n",
       "      <td>1</td>\n",
       "      <td>1</td>\n",
       "      <td>1</td>\n",
       "      <td>Task.BJÆRGEMÆRS</td>\n",
       "    </tr>\n",
       "    <tr>\n",
       "      <th>1</th>\n",
       "      <td>2021-02-13</td>\n",
       "      <td>True</td>\n",
       "      <td>1</td>\n",
       "      <td>1</td>\n",
       "      <td>1</td>\n",
       "      <td>Task.BJÆRGEMÆRS</td>\n",
       "    </tr>\n",
       "    <tr>\n",
       "      <th>2</th>\n",
       "      <td>2021-02-13</td>\n",
       "      <td>True</td>\n",
       "      <td>2</td>\n",
       "      <td>1</td>\n",
       "      <td>1</td>\n",
       "      <td>Task.ORDONNANS</td>\n",
       "    </tr>\n",
       "    <tr>\n",
       "      <th>3</th>\n",
       "      <td>2021-02-13</td>\n",
       "      <td>True</td>\n",
       "      <td>3</td>\n",
       "      <td>1</td>\n",
       "      <td>1</td>\n",
       "      <td>Task.RORGÆNGER</td>\n",
       "    </tr>\n",
       "    <tr>\n",
       "      <th>4</th>\n",
       "      <td>2021-02-13</td>\n",
       "      <td>True</td>\n",
       "      <td>4</td>\n",
       "      <td>1</td>\n",
       "      <td>1</td>\n",
       "      <td>Task.UDKIG</td>\n",
       "    </tr>\n",
       "  </tbody>\n",
       "</table>\n",
       "</div>"
      ],
      "text/plain": [
       "        date  at_sea  gast_no  team_no  shift_no             task\n",
       "0 2021-02-13    True        1        1         1  Task.BJÆRGEMÆRS\n",
       "1 2021-02-13    True        1        1         1  Task.BJÆRGEMÆRS\n",
       "2 2021-02-13    True        2        1         1   Task.ORDONNANS\n",
       "3 2021-02-13    True        3        1         1   Task.RORGÆNGER\n",
       "4 2021-02-13    True        4        1         1       Task.UDKIG"
      ]
     },
     "execution_count": 27,
     "metadata": {},
     "output_type": "execute_result"
    }
   ],
   "source": [
    "df = pd.DataFrame(plan.assignments)\n",
    "df.date = pd.to_datetime(df.date)\n",
    "df[df.date <= '2021-02-13']\n",
    "\n",
    "#df.dtypes\n",
    "\n",
    "#stats = get_taskstats(plan)\n"
   ]
  },
  {
   "cell_type": "code",
   "execution_count": null,
   "id": "documented-monitoring",
   "metadata": {},
   "outputs": [],
   "source": []
  }
 ],
 "metadata": {
  "kernelspec": {
   "display_name": "Python 3",
   "language": "python",
   "name": "python3"
  },
  "language_info": {
   "codemirror_mode": {
    "name": "ipython",
    "version": 3
   },
   "file_extension": ".py",
   "mimetype": "text/x-python",
   "name": "python",
   "nbconvert_exporter": "python",
   "pygments_lexer": "ipython3",
   "version": "3.8.4"
  }
 },
 "nbformat": 4,
 "nbformat_minor": 5
}
